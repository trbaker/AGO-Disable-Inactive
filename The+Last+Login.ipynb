{
 "cells": [
  {
   "cell_type": "markdown",
   "metadata": {},
   "source": [
    "# The Last Login \n",
    "This script disables accounts older than 180 days and deletes accounts never logged in to (that are at least 28 days old). Version 1.0\n",
    "\n",
    "ArcGIS Online Python Tools for Schools: http://esriurl.com/Tools4Schools \n",
    "\n",
    "Before executing the script: Fill in three variables in the next box. Optinoally, un-comment the delete user and reassign contents functions in the third cell.\n",
    "\n",
    "- trb, August 2017\n"
   ]
  },
  {
   "cell_type": "code",
   "execution_count": null,
   "metadata": {
    "collapsed": true
   },
   "outputs": [],
   "source": [
    "# import enviros and set vars\n",
    "from arcgis.gis import GIS\n",
    "from IPython.display import display\n",
    "import time\n",
    "\n",
    "# you must set user variables below.\n",
    "# you must also uncomment the user.delete function and reassign functions below to actually delete\n",
    "# ##################################################################\n",
    "# ##################################################################\n",
    "orgurl = \"\"   # use full URL, eg http://mySchoolName.maps.arcgis.com\n",
    "adminuser = \"\" # login for the admin account creating the new users\n",
    "adminpw = \"\"   # password for the admin account creating new users\n",
    "# ##################################################################\n",
    "# ##################################################################\n",
    "print(\"ok\")"
   ]
  },
  {
   "cell_type": "code",
   "execution_count": null,
   "metadata": {},
   "outputs": [],
   "source": [
    "gis = GIS(orgurl, adminuser, adminpw)\n",
    "now = time.time()\n",
    "i = 0 #counter for disabled accounts\n",
    "j = 0 #counter for deleted accounts\n",
    "\n",
    "# pull all users in org and get lastlogin (based on Unix Epoch time in milliseconds #######)\n",
    "# take some action based ont he number of days since last login\n",
    "# 17000 is used as the number of days since Epoch time or rather NO LOGIN\n",
    "gis_users = gis.users.search(query='')\n",
    "for user in gis_users:\n",
    "    loginSec=user.lastLogin/1000  # var holds lastlogin in seconds (rather than milliseconds)\n",
    "    diffLoginSec = now-loginSec # var holds difference between now and lastlogin in seconds.\n",
    "    diffLoginDays = diffLoginSec/(24*60*60)    #Last login in days (rounded)\n",
    "    print(user.username + \":\")\n",
    "    if int(diffLoginDays) > 17000:\n",
    "        print(\"     Never logged in.\")  \n",
    "    else: \n",
    "        print(\"    \", int(diffLoginDays), \" days since last login\")\n",
    "    if diffLoginDays > 17000: \n",
    "        # check if createdate is within 28 day threshold, if so skip action\n",
    "        if (now - user.created/1000) < 2419200:   # 28 days = 2419200 seconds\n",
    "            created_time = time.localtime(user.created/1000)\n",
    "            print(\"     Created: {}/{}/{}\".format(created_time[0], created_time[1], created_time[2]))\n",
    "            print(\"     Account in 28 day creation threshold. Not deleted. \")\n",
    "        else: \n",
    "            print(\"     NO LOGIN EVER RECORDED. DELETING LOGIN.\")\n",
    "            j=j+1\n",
    "            #user.reassign_to(target_owner = adminuser)\n",
    "            #user.delete()\n",
    "    elif diffLoginDays > 180: \n",
    "        print(\"     NO LOGIN IN 180+ DAYS. DISABLING LOGIN.\")\n",
    "        i=i+1\n",
    "        user.disable()\n",
    "    elif diffLoginDays > 90: \n",
    "        print(\"     WARNING ONLY. NO LOGIN IN 90+ DAYS.\")  \n",
    "    print(\" \")\n",
    "print(\"---\")\n",
    "print(\"---\")\n",
    "print(\"SUMMARY:\", i, \" accounts were disabled.\")\n",
    "print(\"SUMMARY:\", j, \" accounts were deleted.\")\n",
    "print(\"---\")\n",
    "print(\"---\")"
   ]
  },
  {
   "cell_type": "code",
   "execution_count": null,
   "metadata": {
    "collapsed": true
   },
   "outputs": [],
   "source": []
  }
 ],
 "metadata": {
  "kernelspec": {
   "display_name": "Python 3",
   "language": "python",
   "name": "python3"
  },
  "language_info": {
   "codemirror_mode": {
    "name": "ipython",
    "version": 3
   },
   "file_extension": ".py",
   "mimetype": "text/x-python",
   "name": "python",
   "nbconvert_exporter": "python",
   "pygments_lexer": "ipython3",
   "version": "3.6.1"
  }
 },
 "nbformat": 4,
 "nbformat_minor": 2
}
